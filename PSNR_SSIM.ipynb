{
 "cells": [
  {
   "cell_type": "code",
   "execution_count": 31,
   "id": "therapeutic-macintosh",
   "metadata": {},
   "outputs": [],
   "source": [
    "import os\n",
    "import re\n",
    "import tensorflow as tf\n",
    "from tensorflow import keras"
   ]
  },
  {
   "cell_type": "code",
   "execution_count": 6,
   "id": "painted-barrier",
   "metadata": {},
   "outputs": [],
   "source": [
    "PATH = \"700M/\""
   ]
  },
  {
   "cell_type": "code",
   "execution_count": 100,
   "id": "interim-escape",
   "metadata": {
    "scrolled": true
   },
   "outputs": [],
   "source": [
    "psnr_list = []\n",
    "ssim_list = []\n",
    "for file in os.listdir(PATH)[:10]:\n",
    "    if \"accumulated\" in str(file):\n",
    "        #Leitura do ficheiro inicial e o do ficheiro da previsão correspondente\n",
    "        image_number = re.search(r\"[0-9]+\",str(file)).group()\n",
    "        file2 = PATH + image_number + \"_noisy.png\" #alterar depois para prediction\n",
    "        im1 = tf.io.decode_png(tf.io.read_file(PATH + file))\n",
    "        im2 = tf.io.decode_png(tf.io.read_file(file2))\n",
    "        #PSNR\n",
    "        psnr = tf.image.psnr(im1, im2, max_val=255).numpy()\n",
    "        psnr_list.append(psnr)\n",
    "        #SSIM\n",
    "        im1 = tf.expand_dims(im1, axis=0)\n",
    "        im2 = tf.expand_dims(im2, axis=0)\n",
    "        ssim = tf.image.ssim(im1, im2, max_val=255, filter_size=11, filter_sigma=1.5, k1=0.01, k2=0.03).numpy()\n",
    "        ssim_list.append(ssim[0])"
   ]
  },
  {
   "cell_type": "code",
   "execution_count": 101,
   "id": "accredited-norfolk",
   "metadata": {},
   "outputs": [
    {
     "data": {
      "text/plain": [
       "29.349974632263184"
      ]
     },
     "execution_count": 101,
     "metadata": {},
     "output_type": "execute_result"
    }
   ],
   "source": [
    "psnr_average = sum(psnr_list) / len(psnr_list)\n",
    "psnr_average"
   ]
  },
  {
   "cell_type": "code",
   "execution_count": 102,
   "id": "nuclear-mirror",
   "metadata": {},
   "outputs": [
    {
     "data": {
      "text/plain": [
       "0.6374132990837097"
      ]
     },
     "execution_count": 102,
     "metadata": {},
     "output_type": "execute_result"
    }
   ],
   "source": [
    "ssim_average = sum(ssim_list) / len(ssim_list)\n",
    "ssim_average"
   ]
  }
 ],
 "metadata": {
  "kernelspec": {
   "display_name": "Python 3",
   "language": "python",
   "name": "python3"
  },
  "language_info": {
   "codemirror_mode": {
    "name": "ipython",
    "version": 3
   },
   "file_extension": ".py",
   "mimetype": "text/x-python",
   "name": "python",
   "nbconvert_exporter": "python",
   "pygments_lexer": "ipython3",
   "version": "3.7.6"
  }
 },
 "nbformat": 4,
 "nbformat_minor": 5
}
